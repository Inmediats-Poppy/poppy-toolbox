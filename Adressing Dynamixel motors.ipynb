{
 "metadata": {
  "name": "",
  "signature": "sha256:89657627841b86989e10135d5fe57762df49e9b6696329c5ae7ec68a67b50026"
 },
 "nbformat": 3,
 "nbformat_minor": 0,
 "worksheets": [
  {
   "cells": [
    {
     "cell_type": "heading",
     "level": 1,
     "metadata": {
      "slideshow": {
       "slide_type": "-"
      }
     },
     "source": [
      "Script to adress Dynamixel motors\n",
      "\n"
     ]
    },
    {
     "cell_type": "markdown",
     "metadata": {},
     "source": [
      "IMPORTANT : this script is only to change easily the id for Robotis Dynamixel motors using pypot librairy. \n",
      "It supports only ONE motor at the time (for the moment).\n",
      "It hasn't been tested for the moment. Use it Carrefully."
     ]
    },
    {
     "cell_type": "markdown",
     "metadata": {},
     "source": [
      "Import the library"
     ]
    },
    {
     "cell_type": "code",
     "collapsed": false,
     "input": [
      "import pypot.dynamixel"
     ],
     "language": "python",
     "metadata": {},
     "outputs": [],
     "prompt_number": 1
    },
    {
     "cell_type": "markdown",
     "metadata": {},
     "source": [
      "Scan ports"
     ]
    },
    {
     "cell_type": "code",
     "collapsed": false,
     "input": [
      "ports = pypot.dynamixel.get_available_ports()\n",
      "\n",
      "if not ports:\n",
      "    raise IOError('no port found!')\n",
      "\n",
      "print 'ports found', ports\n",
      "\n",
      "print 'connecting on the first available port:', ports[0]"
     ],
     "language": "python",
     "metadata": {},
     "outputs": []
    },
    {
     "cell_type": "markdown",
     "metadata": {},
     "source": [
      "Scan motors"
     ]
    },
    {
     "cell_type": "code",
     "collapsed": false,
     "input": [
      "dxl_io = pypot.dynamixel.DxlIO(ports[0])\n",
      "list_motors=dxl_io.scan()\n",
      "\n",
      "print 'These motors are detected : ', list_motors , 'Only the first one will be used.'"
     ],
     "language": "python",
     "metadata": {},
     "outputs": [
      {
       "ename": "NameError",
       "evalue": "name 'ports' is not defined",
       "output_type": "pyerr",
       "traceback": [
        "\u001b[0;31m---------------------------------------------------------------------------\u001b[0m\n\u001b[0;31mNameError\u001b[0m                                 Traceback (most recent call last)",
        "\u001b[0;32m<ipython-input-11-43a336a6f890>\u001b[0m in \u001b[0;36m<module>\u001b[0;34m()\u001b[0m\n\u001b[0;32m----> 1\u001b[0;31m \u001b[0mdxl_io\u001b[0m \u001b[0;34m=\u001b[0m \u001b[0mpypot\u001b[0m\u001b[0;34m.\u001b[0m\u001b[0mdynamixel\u001b[0m\u001b[0;34m.\u001b[0m\u001b[0mDxlIO\u001b[0m\u001b[0;34m(\u001b[0m\u001b[0mports\u001b[0m\u001b[0;34m[\u001b[0m\u001b[0;36m0\u001b[0m\u001b[0;34m]\u001b[0m\u001b[0;34m)\u001b[0m\u001b[0;34m\u001b[0m\u001b[0m\n\u001b[0m\u001b[1;32m      2\u001b[0m \u001b[0mlistmotors\u001b[0m\u001b[0;34m=\u001b[0m\u001b[0mdxl_io\u001b[0m\u001b[0;34m.\u001b[0m\u001b[0mscan\u001b[0m\u001b[0;34m(\u001b[0m\u001b[0;34m)\u001b[0m\u001b[0;34m\u001b[0m\u001b[0m\n\u001b[1;32m      3\u001b[0m \u001b[0;32mprint\u001b[0m \u001b[0;34m'These motors are detected : '\u001b[0m\u001b[0;34m,\u001b[0m \u001b[0mlistmotors\u001b[0m\u001b[0;34m\u001b[0m\u001b[0m\n",
        "\u001b[0;31mNameError\u001b[0m: name 'ports' is not defined"
       ]
      }
     ],
     "prompt_number": 11
    },
    {
     "cell_type": "markdown",
     "metadata": {},
     "source": [
      "Get information on first motor detected"
     ]
    },
    {
     "cell_type": "code",
     "collapsed": false,
     "input": [
      "id_motor=list_motors[0]\n",
      "model=dxl_io.get_model(id_motor)\n",
      "baudrate=dxl_io.baudrate(id_motor)\n",
      "return_delay_time=dxl_io.get_return_delay_time(id_motor)\n",
      "\n",
      "print 'id : ', id_motor , ' / model : ', model , ' / baudrate : ' , baudrate , ' / Return dealy time ' , return_delay_time , ' ms'"
     ],
     "language": "python",
     "metadata": {},
     "outputs": [
      {
       "ename": "NameError",
       "evalue": "name 'listmotors' is not defined",
       "output_type": "pyerr",
       "traceback": [
        "\u001b[0;31m---------------------------------------------------------------------------\u001b[0m\n\u001b[0;31mNameError\u001b[0m                                 Traceback (most recent call last)",
        "\u001b[0;32m<ipython-input-12-5b109f3dfedf>\u001b[0m in \u001b[0;36m<module>\u001b[0;34m()\u001b[0m\n\u001b[1;32m      1\u001b[0m \u001b[0;31m# get information on first motor detected\u001b[0m\u001b[0;34m\u001b[0m\u001b[0;34m\u001b[0m\u001b[0m\n\u001b[0;32m----> 2\u001b[0;31m \u001b[0mid\u001b[0m\u001b[0;34m=\u001b[0m\u001b[0mlistmotors\u001b[0m\u001b[0;34m[\u001b[0m\u001b[0;36m0\u001b[0m\u001b[0;34m]\u001b[0m\u001b[0;34m\u001b[0m\u001b[0m\n\u001b[0m\u001b[1;32m      3\u001b[0m \u001b[0mmodel\u001b[0m\u001b[0;34m=\u001b[0m\u001b[0mdxl_io\u001b[0m\u001b[0;34m.\u001b[0m\u001b[0mget_model\u001b[0m\u001b[0;34m(\u001b[0m\u001b[0mid\u001b[0m\u001b[0;34m)\u001b[0m\u001b[0;34m\u001b[0m\u001b[0m\n\u001b[1;32m      4\u001b[0m \u001b[0mbaudrate\u001b[0m\u001b[0;34m=\u001b[0m\u001b[0mdxl_io\u001b[0m\u001b[0;34m.\u001b[0m\u001b[0mbaudrate\u001b[0m\u001b[0;34m(\u001b[0m\u001b[0mid\u001b[0m\u001b[0;34m)\u001b[0m\u001b[0;34m\u001b[0m\u001b[0m\n\u001b[1;32m      5\u001b[0m \u001b[0mreturn_delay_time\u001b[0m\u001b[0;34m=\u001b[0m\u001b[0mdxl_io\u001b[0m\u001b[0;34m.\u001b[0m\u001b[0mget_return_delay_time\u001b[0m\u001b[0;34m(\u001b[0m\u001b[0mid\u001b[0m\u001b[0;34m)\u001b[0m\u001b[0;34m\u001b[0m\u001b[0m\n",
        "\u001b[0;31mNameError\u001b[0m: name 'listmotors' is not defined"
       ]
      }
     ],
     "prompt_number": 12
    },
    {
     "cell_type": "code",
     "collapsed": false,
     "input": [
      "# change the baudrate to 1 000 000\n",
      "dxl_io.change_baudrate(id_motor,1000000)\n",
      "print 'motor new baudrate : ', baudrate"
     ],
     "language": "python",
     "metadata": {},
     "outputs": []
    },
    {
     "cell_type": "markdown",
     "metadata": {},
     "source": [
      "Change the return delay time"
     ]
    },
    {
     "cell_type": "code",
     "collapsed": false,
     "input": [
      "dxl_io.set_return_delay_time(id_motor, 0)\n",
      "print 'the new return delay time is ' , return_delay_time , ' ms'"
     ],
     "language": "python",
     "metadata": {},
     "outputs": []
    },
    {
     "cell_type": "markdown",
     "metadata": {},
     "source": [
      "Ask for the new id"
     ]
    },
    {
     "cell_type": "code",
     "collapsed": false,
     "input": [
      "new_id_motor=int(input('Wich id would you like to give to your motor? '))"
     ],
     "language": "python",
     "metadata": {},
     "outputs": []
    },
    {
     "cell_type": "markdown",
     "metadata": {},
     "source": [
      "Change the id of the motor  "
     ]
    },
    {
     "cell_type": "code",
     "collapsed": false,
     "input": [
      "old_id_motor=id_motor\n",
      "dxl_io.change_id(old_id_motor : new_id_motor)\n",
      "print 'the new id is : ' , id_motor"
     ],
     "language": "python",
     "metadata": {},
     "outputs": [
      {
       "ename": "SyntaxError",
       "evalue": "invalid syntax (<ipython-input-2-c38ec9e447e3>, line 2)",
       "output_type": "pyerr",
       "traceback": [
        "\u001b[0;36m  File \u001b[0;32m\"<ipython-input-2-c38ec9e447e3>\"\u001b[0;36m, line \u001b[0;32m2\u001b[0m\n\u001b[0;31m    dxl_io.change_id(idcurrent : idtarget)\u001b[0m\n\u001b[0m                               ^\u001b[0m\n\u001b[0;31mSyntaxError\u001b[0m\u001b[0;31m:\u001b[0m invalid syntax\n"
       ]
      }
     ],
     "prompt_number": 2
    },
    {
     "cell_type": "markdown",
     "metadata": {},
     "source": [
      "Chek"
     ]
    },
    {
     "cell_type": "code",
     "collapsed": false,
     "input": [
      "print 'id : ', id_motor , ' / model : ', model , ' / baudrate : ' , baudrate , ' / Return dealy time ' , return_delay_time , ' ms'\n",
      "print 'Is that ok for you?'"
     ],
     "language": "python",
     "metadata": {},
     "outputs": []
    }
   ],
   "metadata": {}
  }
 ]
}