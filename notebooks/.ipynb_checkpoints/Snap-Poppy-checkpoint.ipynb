{
 "metadata": {
  "name": "",
  "signature": "sha256:592541597ba292587e3135f5fdd5a42c0a340720f5cb0e6fd9feed50e93f0dbc"
 },
 "nbformat": 3,
 "nbformat_minor": 0,
 "worksheets": []
}