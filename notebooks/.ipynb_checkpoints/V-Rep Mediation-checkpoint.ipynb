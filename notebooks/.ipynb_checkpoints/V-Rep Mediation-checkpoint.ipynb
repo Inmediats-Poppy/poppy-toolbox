{
 "metadata": {
  "name": "",
  "signature": "sha256:f3b11c890a8ee8ec145a07fc9e8d0f20ac052ec52d205bdc441b451d8c3ef0c6"
 },
 "nbformat": 3,
 "nbformat_minor": 0,
 "worksheets": [
  {
   "cells": [
    {
     "cell_type": "heading",
     "level": 1,
     "metadata": {},
     "source": [
      "Tuto simplifi\u00e9 de l'usage V-Rep avec Poppy\n"
     ]
    },
    {
     "cell_type": "markdown",
     "metadata": {},
     "source": [
      "source :\n",
      "\n",
      "http://nbviewer.ipython.org/github/poppy-project/pypot/blob/master/samples/notebooks/Controlling%20a%20Poppy%20humanoid%20in%20V-REP%20using%20pypot.ipynb#"
     ]
    },
    {
     "cell_type": "markdown",
     "metadata": {},
     "source": [
      "Importer la librairie Poppy"
     ]
    },
    {
     "cell_type": "code",
     "collapsed": false,
     "input": [
      "from poppy.creatures import PoppyHumanoid"
     ],
     "language": "python",
     "metadata": {},
     "outputs": [],
     "prompt_number": 2
    },
    {
     "cell_type": "markdown",
     "metadata": {},
     "source": [
      "Cr\u00e9er une instance de poppy dans ' V-Rep"
     ]
    },
    {
     "cell_type": "code",
     "collapsed": false,
     "input": [
      "poppy = PoppyHumanoid(simulator='vrep')"
     ],
     "language": "python",
     "metadata": {},
     "outputs": [],
     "prompt_number": 3
    },
    {
     "cell_type": "markdown",
     "metadata": {},
     "source": [
      "Faire tourner la t\u00eate \u00e0 l'angele -90\u00b0 en 2 secondes (n'h\u00e9sites \u00e0 modifier l'angle)"
     ]
    },
    {
     "cell_type": "code",
     "collapsed": false,
     "input": [
      "poppy.head_z.goto_position(90, 2, wait=True)"
     ],
     "language": "python",
     "metadata": {},
     "outputs": [],
     "prompt_number": 4
    },
    {
     "cell_type": "markdown",
     "metadata": {},
     "source": [
      "Faire lever la t\u00eate \u00e0 l'angle de ton choix en 5 secondes"
     ]
    },
    {
     "cell_type": "code",
     "collapsed": false,
     "input": [
      "poppy.head_y.goto_position(90, 5, wait=True)"
     ],
     "language": "python",
     "metadata": {},
     "outputs": [],
     "prompt_number": 5
    },
    {
     "cell_type": "markdown",
     "metadata": {},
     "source": [
      "Faire lever le bras gauche"
     ]
    },
    {
     "cell_type": "code",
     "collapsed": false,
     "input": [
      "poppy.l_shoulder_x.goto_position(90,2, wait=True)"
     ],
     "language": "python",
     "metadata": {},
     "outputs": [],
     "prompt_number": 11
    },
    {
     "cell_type": "markdown",
     "metadata": {},
     "source": [
      "Faire tourner la t\u00eate si haut ou bas appuy\u00e9"
     ]
    },
    {
     "cell_type": "code",
     "collapsed": false,
     "input": [
      "head_z_position = 0\n",
      "\n",
      "if key_pressed==UP\n",
      "    head_z_position = head_z_position + 1\n",
      "if key_pressed==DOWN\n",
      "    head_z_position = head_z_position - 1\n",
      "else\n",
      "    head_z_position = head_z_position\n",
      "  \n",
      "poppy.head_z.goto_position(head_z_position, 2, wait=True)"
     ],
     "language": "python",
     "metadata": {},
     "outputs": []
    },
    {
     "cell_type": "markdown",
     "metadata": {},
     "source": [
      "Bouger la position de la t\u00eate \u00e0 la position d\u00e9sir\u00e9"
     ]
    },
    {
     "cell_type": "code",
     "collapsed": false,
     "input": [
      "head_z_position = poppy.head_z.present_position\n",
      "print 'la position actuelle est :' , head_z_position\n",
      "head_z_position = input('A quel angle voulez-vous tourner la tete de Poppy :')\n",
      "\n",
      "poppy.head_z.goto_position(head_z_position, 2, wait=True)"
     ],
     "language": "python",
     "metadata": {},
     "outputs": [
      {
       "output_type": "stream",
       "stream": "stdout",
       "text": [
        "la position actuelle est : -0.0\n"
       ]
      },
      {
       "name": "stdout",
       "output_type": "stream",
       "stream": "stdout",
       "text": [
        "A quel angle voulez-vous tourner la tete de Poppy :7\n"
       ]
      }
     ],
     "prompt_number": 10
    },
    {
     "cell_type": "code",
     "collapsed": false,
     "input": [
      "# Boucle avec break\n",
      ">>> while True:\n",
      "...\n",
      "stuff = input(\"String to capitalize [type q to quit]: \")\n",
      "...\n",
      "if stuff == \"q\":\n",
      "...\n",
      "break"
     ],
     "language": "python",
     "metadata": {},
     "outputs": []
    },
    {
     "cell_type": "code",
     "collapsed": false,
     "input": [
      "#Lister les moteurs\n",
      "poppy.motors"
     ],
     "language": "python",
     "metadata": {},
     "outputs": [
      {
       "metadata": {},
       "output_type": "pyout",
       "prompt_number": 12,
       "text": [
        "[<DxlMotor name=l_elbow_y id=44 pos=0.0>,\n",
        " <DxlMotor name=r_elbow_y id=54 pos=-0.0>,\n",
        " <DxlMotor name=r_knee_y id=24 pos=0.2>,\n",
        " <DxlMotor name=head_y id=37 pos=-13.7>,\n",
        " <DxlMotor name=head_z id=36 pos=7.0>,\n",
        " <DxlMotor name=r_arm_z id=53 pos=-0.0>,\n",
        " <DxlMotor name=r_ankle_y id=25 pos=1.1>,\n",
        " <DxlMotor name=r_shoulder_x id=52 pos=1.2>,\n",
        " <DxlMotor name=r_shoulder_y id=51 pos=0.0>,\n",
        " <DxlMotor name=r_hip_z id=22 pos=0.0>,\n",
        " <DxlMotor name=r_hip_x id=21 pos=1.0>,\n",
        " <DxlMotor name=r_hip_y id=23 pos=-0.0>,\n",
        " <DxlMotor name=l_arm_z id=43 pos=-0.0>,\n",
        " <DxlMotor name=l_hip_x id=11 pos=0.0>,\n",
        " <DxlMotor name=l_hip_y id=13 pos=-0.1>,\n",
        " <DxlMotor name=l_hip_z id=12 pos=0.0>,\n",
        " <DxlMotor name=abs_x id=32 pos=0.0>,\n",
        " <DxlMotor name=abs_y id=31 pos=0.2>,\n",
        " <DxlMotor name=abs_z id=33 pos=-0.0>,\n",
        " <DxlMotor name=l_ankle_y id=15 pos=0.4>,\n",
        " <DxlMotor name=bust_y id=34 pos=0.5>,\n",
        " <DxlMotor name=bust_x id=35 pos=0.2>,\n",
        " <DxlMotor name=l_knee_y id=14 pos=0.0>,\n",
        " <DxlMotor name=l_shoulder_x id=42 pos=0.2>,\n",
        " <DxlMotor name=l_shoulder_y id=41 pos=0.1>]"
       ]
      }
     ],
     "prompt_number": 12
    },
    {
     "cell_type": "code",
     "collapsed": false,
     "input": [
      "# Donn\u00e9es d'un moteu sp\u00e9cifique\n",
      "poppy.head_z"
     ],
     "language": "python",
     "metadata": {},
     "outputs": [
      {
       "metadata": {},
       "output_type": "pyout",
       "prompt_number": 13,
       "text": [
        "<DxlMotor name=head_z id=36 pos=7.0>"
       ]
      }
     ],
     "prompt_number": 13
    },
    {
     "cell_type": "code",
     "collapsed": false,
     "input": [
      "#Possition d'un moteur sp\u00e9cifque\n",
      "poppy.head_y.present_position"
     ],
     "language": "python",
     "metadata": {},
     "outputs": [
      {
       "metadata": {},
       "output_type": "pyout",
       "prompt_number": 14,
       "text": [
        "-13.7"
       ]
      }
     ],
     "prompt_number": 14
    },
    {
     "cell_type": "code",
     "collapsed": false,
     "input": [
      "#La position de tous moteurs :\n",
      "[m.present_position for m in poppy.motors]"
     ],
     "language": "python",
     "metadata": {},
     "outputs": [
      {
       "metadata": {},
       "output_type": "pyout",
       "prompt_number": 15,
       "text": [
        "[0.0,\n",
        " -0.0,\n",
        " 0.2,\n",
        " -13.7,\n",
        " 7.0,\n",
        " -0.0,\n",
        " 1.1,\n",
        " 1.2000000000000028,\n",
        " 0.0,\n",
        " 0.0,\n",
        " 1.0,\n",
        " -0.0,\n",
        " -0.0,\n",
        " -0.0,\n",
        " -0.10000000000000009,\n",
        " 0.0,\n",
        " 0.0,\n",
        " 0.2,\n",
        " 0.0,\n",
        " 0.4,\n",
        " 0.5,\n",
        " 0.2,\n",
        " 0.0,\n",
        " 0.20000000000000284,\n",
        " 0.09999999999999432]"
       ]
      }
     ],
     "prompt_number": 15
    },
    {
     "cell_type": "code",
     "collapsed": false,
     "input": [
      "# Dictionnaire des paires {motor_name : motor_position}\n",
      "{m.name: m.present_position for m in poppy.motors}"
     ],
     "language": "python",
     "metadata": {},
     "outputs": [
      {
       "metadata": {},
       "output_type": "pyout",
       "prompt_number": 16,
       "text": [
        "{u'abs_x': 0.0,\n",
        " u'abs_y': 0.2,\n",
        " u'abs_z': 0.0,\n",
        " u'bust_x': 0.2,\n",
        " u'bust_y': 0.5,\n",
        " u'head_y': -13.8,\n",
        " u'head_z': 7.0,\n",
        " u'l_ankle_y': 0.4,\n",
        " u'l_arm_z': -0.0,\n",
        " u'l_elbow_y': -0.0,\n",
        " u'l_hip_x': 0.0,\n",
        " u'l_hip_y': -0.10000000000000009,\n",
        " u'l_hip_z': -0.0,\n",
        " u'l_knee_y': 0.0,\n",
        " u'l_shoulder_x': 0.20000000000000284,\n",
        " u'l_shoulder_y': 0.09999999999999432,\n",
        " u'r_ankle_y': 1.0,\n",
        " u'r_arm_z': -0.0,\n",
        " u'r_elbow_y': -0.0,\n",
        " u'r_hip_x': 1.0,\n",
        " u'r_hip_y': -0.0,\n",
        " u'r_hip_z': 0.0,\n",
        " u'r_knee_y': 0.2,\n",
        " u'r_shoulder_x': 1.2000000000000028,\n",
        " u'r_shoulder_y': 0.0}"
       ]
      }
     ],
     "prompt_number": 16
    },
    {
     "cell_type": "code",
     "collapsed": false,
     "input": [
      "#Liste des alias\n",
      "poppy.alias"
     ],
     "language": "python",
     "metadata": {},
     "outputs": [
      {
       "metadata": {},
       "output_type": "pyout",
       "prompt_number": 17,
       "text": [
        "[u'r_leg',\n",
        " u'torso',\n",
        " u'l_leg_sagitall',\n",
        " u'head',\n",
        " u'l_arm',\n",
        " u'r_leg_sagitall',\n",
        " u'l_leg',\n",
        " u'arms',\n",
        " u'legs',\n",
        " u'r_arm']"
       ]
      }
     ],
     "prompt_number": 17
    },
    {
     "cell_type": "code",
     "collapsed": false,
     "input": [
      "#Dictionnaire des positions des moteurs d'un alias\n",
      "{m.name: m.present_position for m in poppy.head}"
     ],
     "language": "python",
     "metadata": {},
     "outputs": [
      {
       "metadata": {},
       "output_type": "pyout",
       "prompt_number": 29,
       "text": [
        "{u'head_y': -40.2, u'head_z': -90.0}"
       ]
      }
     ],
     "prompt_number": 29
    },
    {
     "cell_type": "code",
     "collapsed": false,
     "input": [
      "# Donner une valeur \u00e0 la position d'un moteur\n",
      "poppy.head_z.goal_position = 36"
     ],
     "language": "python",
     "metadata": {},
     "outputs": [],
     "prompt_number": 41
    },
    {
     "cell_type": "code",
     "collapsed": false,
     "input": [
      "# Donner une valeur aux positions des moteurs d'un alias\n",
      "for m in poppy.head:\n",
      "    m.goal_position = 0"
     ],
     "language": "python",
     "metadata": {},
     "outputs": [],
     "prompt_number": 42
    },
    {
     "cell_type": "code",
     "collapsed": false,
     "input": [
      "# Limites des moteurs d'un alias\n",
      "{m.name: m.angle_limit for m in poppy.head}"
     ],
     "language": "python",
     "metadata": {},
     "outputs": [
      {
       "metadata": {},
       "output_type": "pyout",
       "prompt_number": 32,
       "text": [
        "{u'head_y': (19.999998836371681, -27.999999084255421),\n",
        " u'head_z': (-100.0000005060238, 100.0000005060238)}"
       ]
      }
     ],
     "prompt_number": 32
    },
    {
     "cell_type": "code",
     "collapsed": false,
     "input": [
      "# Remettre la simulation \u00e0 z\u00e9ro\n",
      "poppy.reset_simulation()"
     ],
     "language": "python",
     "metadata": {},
     "outputs": [],
     "prompt_number": 33
    },
    {
     "cell_type": "code",
     "collapsed": false,
     "input": [
      "#Enchainement de positions : \n",
      "\n",
      "poppy.head_z.goto_position(45, 2, wait=False)\n",
      "poppy.head_y.goto_position(-30, 2, wait=True)\n",
      "\n",
      "poppy.head_z.goto_position(0, 2, wait=True)\n",
      "\n",
      "poppy.head_y.goto_position(20, 1, wait=True)\n",
      "\n"
     ],
     "language": "python",
     "metadata": {},
     "outputs": [],
     "prompt_number": 35
    },
    {
     "cell_type": "code",
     "collapsed": false,
     "input": [
      "# Mouvement continu de la t\u00eate\n",
      "import time\n",
      "\n",
      "import math\n",
      "\n",
      "amp = 30 # in degrees\n",
      "freq = 0.5 # in Hz\n",
      "\n",
      "t0 = time.time()\n",
      "\n",
      "while True:\n",
      "    t = time.time()\n",
      "    \n",
      "    # run for 10s\n",
      "    if t - t0 > 10:\n",
      "        break\n",
      "\n",
      "# Soit on d\u00e9fini moteur par moteur (comme ci-dessous)\n",
      "#    poppy.head_z.goal_position = amp * math.sin(2 * 3.14 * freq * t)\n",
      "#    poppy.head_y.goal_position = amp * math.sin(2 * 3.14 * freq * t)\n",
      "\n",
      "# Soit on d\u00e9fini par alias :\n",
      "    for m in poppy.head:\n",
      "        m.goal_position = amp * math.sin(2 * 3.14 * freq * t)\n",
      "\n",
      "    time.sleep(0.04)\n",
      "\n",
      "\n"
     ],
     "language": "python",
     "metadata": {},
     "outputs": [],
     "prompt_number": 43
    },
    {
     "cell_type": "code",
     "collapsed": false,
     "input": [
      "# R\u00e9cup\u00e9rer la position d'un objet\n",
      "poppy.get_object_position('l_forearm_visual')"
     ],
     "language": "python",
     "metadata": {},
     "outputs": [
      {
       "metadata": {},
       "output_type": "pyout",
       "prompt_number": 51,
       "text": [
        "[0.1121029481291771, 0.016312358900904655, 0.413067102432251]"
       ]
      }
     ],
     "prompt_number": 51
    },
    {
     "cell_type": "code",
     "collapsed": false,
     "input": [
      "# R\u00e9cup\u00e9rer la postion relative d'un obejt par rapport \u00e0 l'autre\n",
      "poppy.get_object_position('head_visual', 'l_forearm_visual')"
     ],
     "language": "python",
     "metadata": {},
     "outputs": [
      {
       "metadata": {},
       "output_type": "pyout",
       "prompt_number": 54,
       "text": [
        "[0.10439909249544144, -0.009689617902040482, -0.3389540910720825]"
       ]
      }
     ],
     "prompt_number": 54
    },
    {
     "cell_type": "code",
     "collapsed": false,
     "input": [
      "reached_pt = []\n",
      "\n",
      "for m in poppy.l_arm:\n",
      "    m.goto_behavior = 'minjerk'\n",
      "\n",
      "# We generate 25 random arm configuration\n",
      "# and stores the reached position of the forearm\n",
      "for _ in range(25):\n",
      "    poppy.reset_simulation()\n",
      "    \n",
      "    # Generate a position by setting random position (within the angle limit) to each joint\n",
      "    # This can be hacked to define other exploration\n",
      "    pos = {m.name: randint(min(m.angle_limit), max(m.angle_limit)) for m in poppy.l_arm}    \n",
      "    poppy.goto_position(pos, 2., wait=True)\n",
      "        \n",
      "    reached_pt.append(poppy.get_object_position('l_forearm_visual'))\n"
     ],
     "language": "python",
     "metadata": {},
     "outputs": []
    },
    {
     "cell_type": "code",
     "collapsed": false,
     "input": [
      "from mpl_toolkits.mplot3d import Axes3D\n",
      "\n",
      "ax = axes(projection='3d')\n",
      "ax.scatter(*array(reached_pt).T)"
     ],
     "language": "python",
     "metadata": {},
     "outputs": []
    },
    {
     "cell_type": "code",
     "collapsed": false,
     "input": [
      "#Primitives : the ex. of Sinus\n",
      "from pypot.primitive.utils import Sinus\n",
      "sin_1 = Sinus(poppy, 25., [poppy.head_z, poppy.head_y], amp=15, freq=.15)\n",
      "sin_1.start()"
     ],
     "language": "python",
     "metadata": {},
     "outputs": [],
     "prompt_number": 4
    },
    {
     "cell_type": "code",
     "collapsed": false,
     "input": [
      "#Lancement d'une seconde primitive en simultan\u00e9e :\n",
      "\n",
      "sin_2 = Sinus(poppy, 25., [poppy.head_z, ], amp=8, freq=.5)\n",
      "sin_2.start()\n",
      "\n"
     ],
     "language": "python",
     "metadata": {},
     "outputs": [],
     "prompt_number": 5
    },
    {
     "cell_type": "code",
     "collapsed": true,
     "input": [
      "\n",
      "\n",
      "sin_3 = Sinus(poppy, 25., [poppy.l_shoulder_x, poppy.l_shoulder_y], amp=8, freq=.5)\n",
      "sin_3.start()\n",
      "\n"
     ],
     "language": "python",
     "metadata": {},
     "outputs": [],
     "prompt_number": 6
    },
    {
     "cell_type": "code",
     "collapsed": false,
     "input": [
      "for p in poppy.active_primitives:\n",
      "    p.stop()"
     ],
     "language": "python",
     "metadata": {},
     "outputs": [],
     "prompt_number": 7
    },
    {
     "cell_type": "code",
     "collapsed": false,
     "input": [],
     "language": "python",
     "metadata": {},
     "outputs": []
    }
   ],
   "metadata": {}
  }
 ]
}