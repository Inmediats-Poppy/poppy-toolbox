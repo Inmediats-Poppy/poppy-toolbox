{
 "metadata": {
  "name": "",
  "signature": "sha256:52002ba75458c57105b78b5ee2597a7d561eca580de285670beaad26481e3cd5"
 },
 "nbformat": 3,
 "nbformat_minor": 0,
 "worksheets": [
  {
   "cells": [
    {
     "cell_type": "heading",
     "level": 1,
     "metadata": {},
     "source": [
      "Tuto simplifi\u00e9 Poppy et V-Rep\n"
     ]
    },
    {
     "cell_type": "markdown",
     "metadata": {},
     "source": [
      "source :\n",
      "\n",
      "http://nbviewer.ipython.org/github/poppy-project/pypot/blob/master/samples/notebooks/Controlling%20a%20Poppy%20humanoid%20in%20V-REP%20using%20pypot.ipynb#"
     ]
    },
    {
     "cell_type": "markdown",
     "metadata": {},
     "source": [
      "Importer la librairie Poppy"
     ]
    },
    {
     "cell_type": "code",
     "collapsed": false,
     "input": [
      "from poppy.creatures import PoppyHumanoid"
     ],
     "language": "python",
     "metadata": {},
     "outputs": [],
     "prompt_number": 1
    },
    {
     "cell_type": "markdown",
     "metadata": {},
     "source": [
      "Cr\u00e9er une instance de poppy dans ' V-Rep"
     ]
    },
    {
     "cell_type": "code",
     "collapsed": false,
     "input": [
      "poppy = PoppyHumanoid(simulator='vrep')"
     ],
     "language": "python",
     "metadata": {},
     "outputs": [],
     "prompt_number": 2
    },
    {
     "cell_type": "markdown",
     "metadata": {},
     "source": [
      "Faire tourner la t\u00eate \u00e0 l'angele -90\u00b0 en 2 secondes (n'h\u00e9sites \u00e0 modifier l'angle)"
     ]
    },
    {
     "cell_type": "code",
     "collapsed": false,
     "input": [
      "poppy.head_z.goto_position(90, 2, wait=True)"
     ],
     "language": "python",
     "metadata": {},
     "outputs": [],
     "prompt_number": 3
    },
    {
     "cell_type": "markdown",
     "metadata": {},
     "source": [
      "Faire lever la t\u00eate \u00e0 l'angle de ton choix en 5 secondes"
     ]
    },
    {
     "cell_type": "code",
     "collapsed": false,
     "input": [
      "poppy.head_y.goto_position(90, 5, wait=True)"
     ],
     "language": "python",
     "metadata": {},
     "outputs": [],
     "prompt_number": 4
    },
    {
     "cell_type": "markdown",
     "metadata": {},
     "source": [
      "Faire lever le bras gauche"
     ]
    },
    {
     "cell_type": "code",
     "collapsed": false,
     "input": [
      "poppy.l_shoulder_x.goto_position(90,2, wait=True)"
     ],
     "language": "python",
     "metadata": {},
     "outputs": [],
     "prompt_number": 5
    },
    {
     "cell_type": "markdown",
     "metadata": {},
     "source": [
      "Faire tourner la t\u00eate"
     ]
    },
    {
     "cell_type": "code",
     "collapsed": false,
     "input": [
      "head_z_position = poppy.head_z.present_position\n",
      "print 'la position actuelle est :' , head_z_position\n",
      "head_z_position = input('A quel angle voulez-vous tourner la tete de Poppy :')\n",
      "\n",
      "poppy.head_z.goto_position(head_z_position, 2, wait=True)"
     ],
     "language": "python",
     "metadata": {},
     "outputs": [
      {
       "output_type": "stream",
       "stream": "stdout",
       "text": [
        "la position actuelle est : 90.0\n"
       ]
      },
      {
       "name": "stdout",
       "output_type": "stream",
       "stream": "stdout",
       "text": [
        "A quel angle voulez-vous tourner la tete de Poppy :-50\n"
       ]
      }
     ],
     "prompt_number": 6
    },
    {
     "cell_type": "heading",
     "level": 2,
     "metadata": {},
     "source": [
      "Tips & Tricks"
     ]
    },
    {
     "cell_type": "code",
     "collapsed": false,
     "input": [
      "#Lister les moteurs\n",
      "poppy.motors"
     ],
     "language": "python",
     "metadata": {},
     "outputs": [
      {
       "metadata": {},
       "output_type": "pyout",
       "prompt_number": 7,
       "text": [
        "[<DxlMotor name=l_elbow_y id=44 pos=-0.0>,\n",
        " <DxlMotor name=r_elbow_y id=54 pos=-0.0>,\n",
        " <DxlMotor name=r_knee_y id=24 pos=0.2>,\n",
        " <DxlMotor name=head_y id=37 pos=19.2>,\n",
        " <DxlMotor name=head_z id=36 pos=-50.0>,\n",
        " <DxlMotor name=r_arm_z id=53 pos=-0.0>,\n",
        " <DxlMotor name=r_ankle_y id=25 pos=0.8>,\n",
        " <DxlMotor name=r_shoulder_x id=52 pos=2.6>,\n",
        " <DxlMotor name=r_shoulder_y id=51 pos=0.0>,\n",
        " <DxlMotor name=r_hip_z id=22 pos=0.0>,\n",
        " <DxlMotor name=r_hip_x id=21 pos=1.1>,\n",
        " <DxlMotor name=r_hip_y id=23 pos=-0.0>,\n",
        " <DxlMotor name=l_arm_z id=43 pos=0.0>,\n",
        " <DxlMotor name=l_hip_x id=11 pos=0.2>,\n",
        " <DxlMotor name=l_hip_y id=13 pos=-0.1>,\n",
        " <DxlMotor name=l_hip_z id=12 pos=0.0>,\n",
        " <DxlMotor name=abs_x id=32 pos=0.0>,\n",
        " <DxlMotor name=abs_y id=31 pos=0.3>,\n",
        " <DxlMotor name=abs_z id=33 pos=0.1>,\n",
        " <DxlMotor name=l_ankle_y id=15 pos=0.5>,\n",
        " <DxlMotor name=bust_y id=34 pos=0.8>,\n",
        " <DxlMotor name=bust_x id=35 pos=0.2>,\n",
        " <DxlMotor name=l_knee_y id=14 pos=-0.0>,\n",
        " <DxlMotor name=l_shoulder_x id=42 pos=88.4>,\n",
        " <DxlMotor name=l_shoulder_y id=41 pos=0.3>]"
       ]
      }
     ],
     "prompt_number": 7
    },
    {
     "cell_type": "code",
     "collapsed": false,
     "input": [
      "# Donn\u00e9es d'un moteur sp\u00e9cifique\n",
      "poppy.head_z"
     ],
     "language": "python",
     "metadata": {},
     "outputs": [
      {
       "metadata": {},
       "output_type": "pyout",
       "prompt_number": 8,
       "text": [
        "<DxlMotor name=head_z id=36 pos=-50.0>"
       ]
      }
     ],
     "prompt_number": 8
    },
    {
     "cell_type": "code",
     "collapsed": false,
     "input": [
      "#Possition d'un moteur sp\u00e9cifque\n",
      "poppy.head_y.present_position"
     ],
     "language": "python",
     "metadata": {},
     "outputs": [
      {
       "metadata": {},
       "output_type": "pyout",
       "prompt_number": 9,
       "text": [
        "19.200000000000003"
       ]
      }
     ],
     "prompt_number": 9
    },
    {
     "cell_type": "code",
     "collapsed": false,
     "input": [
      "#La position de tous moteurs :\n",
      "[m.present_position for m in poppy.motors]"
     ],
     "language": "python",
     "metadata": {},
     "outputs": [
      {
       "metadata": {},
       "output_type": "pyout",
       "prompt_number": 10,
       "text": [
        "[-0.0,\n",
        " -0.0,\n",
        " 0.2,\n",
        " 19.200000000000003,\n",
        " -50.0,\n",
        " -0.0,\n",
        " 0.8,\n",
        " 2.5,\n",
        " 0.0,\n",
        " 0.0,\n",
        " 1.1,\n",
        " -0.0,\n",
        " 0.0,\n",
        " 0.3,\n",
        " -0.10000000000000009,\n",
        " -0.0,\n",
        " 0.0,\n",
        " 0.3,\n",
        " 0.0,\n",
        " 0.4,\n",
        " 0.7,\n",
        " 0.2,\n",
        " -0.0,\n",
        " 88.4,\n",
        " 0.29999999999999716]"
       ]
      }
     ],
     "prompt_number": 10
    },
    {
     "cell_type": "code",
     "collapsed": false,
     "input": [
      "# Dictionnaire des paires {motor_name : motor_position}\n",
      "{m.name: m.present_position for m in poppy.motors}"
     ],
     "language": "python",
     "metadata": {},
     "outputs": [
      {
       "metadata": {},
       "output_type": "pyout",
       "prompt_number": 11,
       "text": [
        "{u'abs_x': 0.0,\n",
        " u'abs_y': 0.3,\n",
        " u'abs_z': 0.0,\n",
        " u'bust_x': 0.2,\n",
        " u'bust_y': 0.7,\n",
        " u'head_y': 19.299999999999997,\n",
        " u'head_z': -50.0,\n",
        " u'l_ankle_y': 0.5,\n",
        " u'l_arm_z': 0.0,\n",
        " u'l_elbow_y': -0.0,\n",
        " u'l_hip_x': 0.3,\n",
        " u'l_hip_y': -0.10000000000000009,\n",
        " u'l_hip_z': 0.0,\n",
        " u'l_knee_y': 0.0,\n",
        " u'l_shoulder_x': 88.4,\n",
        " u'l_shoulder_y': 0.29999999999999716,\n",
        " u'r_ankle_y': 0.8,\n",
        " u'r_arm_z': -0.0,\n",
        " u'r_elbow_y': -0.0,\n",
        " u'r_hip_x': 1.1,\n",
        " u'r_hip_y': -0.0,\n",
        " u'r_hip_z': 0.0,\n",
        " u'r_knee_y': 0.2,\n",
        " u'r_shoulder_x': 2.5,\n",
        " u'r_shoulder_y': 0.0}"
       ]
      }
     ],
     "prompt_number": 11
    },
    {
     "cell_type": "code",
     "collapsed": false,
     "input": [
      "#Liste des alias\n",
      "poppy.alias"
     ],
     "language": "python",
     "metadata": {},
     "outputs": [
      {
       "metadata": {},
       "output_type": "pyout",
       "prompt_number": 12,
       "text": [
        "[u'r_leg',\n",
        " u'torso',\n",
        " u'l_leg_sagitall',\n",
        " u'head',\n",
        " u'l_arm',\n",
        " u'r_leg_sagitall',\n",
        " u'l_leg',\n",
        " u'arms',\n",
        " u'legs',\n",
        " u'r_arm']"
       ]
      }
     ],
     "prompt_number": 12
    },
    {
     "cell_type": "code",
     "collapsed": false,
     "input": [
      "#Dictionnaire des positions des moteurs d'un alias\n",
      "{m.name: m.present_position for m in poppy.head}"
     ],
     "language": "python",
     "metadata": {},
     "outputs": [
      {
       "metadata": {},
       "output_type": "pyout",
       "prompt_number": 13,
       "text": [
        "{u'head_y': 19.4, u'head_z': -50.0}"
       ]
      }
     ],
     "prompt_number": 13
    },
    {
     "cell_type": "code",
     "collapsed": false,
     "input": [
      "# Donner une valeur \u00e0 la position d'un moteur\n",
      "poppy.head_z.goal_position = 36"
     ],
     "language": "python",
     "metadata": {},
     "outputs": [],
     "prompt_number": 14
    },
    {
     "cell_type": "code",
     "collapsed": false,
     "input": [
      "# Donner une valeur aux positions des moteurs d'un alias\n",
      "for m in poppy.head:\n",
      "    m.goal_position = 0"
     ],
     "language": "python",
     "metadata": {},
     "outputs": [],
     "prompt_number": 15
    },
    {
     "cell_type": "code",
     "collapsed": false,
     "input": [
      "# Limites des moteurs d'un alias\n",
      "{m.name: m.angle_limit for m in poppy.head}"
     ],
     "language": "python",
     "metadata": {},
     "outputs": [
      {
       "metadata": {},
       "output_type": "pyout",
       "prompt_number": 16,
       "text": [
        "{u'head_y': (19.999998836371681, -27.999999084255421),\n",
        " u'head_z': (-100.0000005060238, 100.0000005060238)}"
       ]
      }
     ],
     "prompt_number": 16
    },
    {
     "cell_type": "code",
     "collapsed": false,
     "input": [
      "# Remettre la simulation \u00e0 z\u00e9ro\n",
      "poppy.reset_simulation()"
     ],
     "language": "python",
     "metadata": {},
     "outputs": [],
     "prompt_number": 17
    },
    {
     "cell_type": "code",
     "collapsed": false,
     "input": [
      "#Enchainement de positions : \n",
      "\n",
      "poppy.head_z.goto_position(45, 2, wait=False)\n",
      "poppy.head_y.goto_position(-30, 2, wait=True)\n",
      "poppy.head_z.goto_position(0, 2, wait=True)\n",
      "poppy.head_y.goto_position(20, 1, wait=True)\n",
      "\n"
     ],
     "language": "python",
     "metadata": {},
     "outputs": [],
     "prompt_number": 18
    },
    {
     "cell_type": "code",
     "collapsed": false,
     "input": [
      "# Mouvement continu de la t\u00eate\n",
      "import time\n",
      "\n",
      "import math\n",
      "\n",
      "amp = 30 # in degrees\n",
      "freq = 0.5 # in Hz\n",
      "\n",
      "t0 = time.time()\n",
      "\n",
      "while True:\n",
      "    t = time.time()\n",
      "    \n",
      "    # run for 10s\n",
      "    if t - t0 > 10:\n",
      "        break\n",
      "\n",
      "# Soit on d\u00e9fini moteur par moteur (comme ci-dessous)\n",
      "#    poppy.head_z.goal_position = amp * math.sin(2 * 3.14 * freq * t)\n",
      "#    poppy.head_y.goal_position = amp * math.sin(2 * 3.14 * freq * t)\n",
      "\n",
      "# Soit on d\u00e9fini par alias :\n",
      "    for m in poppy.head:\n",
      "        m.goal_position = amp * math.sin(2 * 3.14 * freq * t)\n",
      "\n",
      "    time.sleep(0.04)\n",
      "\n",
      "\n"
     ],
     "language": "python",
     "metadata": {},
     "outputs": [],
     "prompt_number": 19
    }
   ],
   "metadata": {}
  }
 ]
}