{
 "metadata": {
  "name": "",
  "signature": "sha256:a1682e9328e4d873fa52a575fae2db6e42571bf709fc74ff502b7ff51b82b87e"
 },
 "nbformat": 3,
 "nbformat_minor": 0,
 "worksheets": [
  {
   "cells": [
    {
     "cell_type": "heading",
     "level": 1,
     "metadata": {},
     "source": [
      "Utiliser Snap avec Poppy"
     ]
    },
    {
     "cell_type": "markdown",
     "metadata": {},
     "source": [
      "Cr\u00e9er une instance de Poppy dans V-Rep et lancer le serveur Snap"
     ]
    },
    {
     "cell_type": "code",
     "collapsed": false,
     "input": [
      "from poppy.creatures import PoppyHumanoid\n",
      "poppy = PoppyHumanoid(simulator='vrep', use_snap=True,)\n",
      "poppy.snap.run()"
     ],
     "language": "python",
     "metadata": {},
     "outputs": []
    },
    {
     "cell_type": "markdown",
     "metadata": {},
     "source": [
      "Pour lancer Snap (fonctionne mieux avec Chrome): "
     ]
    },
    {
     "cell_type": "markdown",
     "metadata": {},
     "source": [
      "http://snap.berkeley.edu/snapsource/snap.html#open:http://127.0.0.1:6969/snap-blocks.xml"
     ]
    }
   ],
   "metadata": {}
  }
 ]
}